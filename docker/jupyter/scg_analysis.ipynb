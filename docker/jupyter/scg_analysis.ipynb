{
 "cells": [
  {
   "cell_type": "code",
   "execution_count": null,
   "id": "80f25d92-0f7e-41c6-83ab-40eb71754a49",
   "metadata": {},
   "outputs": [],
   "source": [
    "import scg\n",
    "scg_files = scg.read_scg(\"data\")\n",
    "G = scg.create_graph(scg_files)\n",
    "scg.show_graph_distribution(G)"
   ]
  }
 ],
 "metadata": {
  "kernelspec": {
   "display_name": "Python 3 (ipykernel)",
   "language": "python",
   "name": "python3"
  },
  "language_info": {
   "codemirror_mode": {
    "name": "ipython",
    "version": 3
   },
   "file_extension": ".py",
   "mimetype": "text/x-python",
   "name": "python",
   "nbconvert_exporter": "python",
   "pygments_lexer": "ipython3",
   "version": "3.11.3"
  }
 },
 "nbformat": 4,
 "nbformat_minor": 5
}
